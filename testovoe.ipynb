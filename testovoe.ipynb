{
 "cells": [
  {
   "cell_type": "code",
   "execution_count": 1,
   "id": "90da2448",
   "metadata": {},
   "outputs": [],
   "source": [
    "import pandas as pd\n",
    "import numpy as np\n"
   ]
  },
  {
   "cell_type": "code",
   "execution_count": null,
   "id": "33604c3a",
   "metadata": {},
   "outputs": [],
   "source": [
    "#задание 1\n",
    "df = pd.read_csv(\"file.csv\", sep=\"|\")\n",
    "unique_records = df.drop_duplicates(subset='id', keep=False)\n",
    "\n",
    "# Поиск записей с одинаковым id, но различными данными\n",
    "duplicate_ids = df[df.duplicated(subset='id', keep=False)]\n",
    "non_unique_records = duplicate_ids[duplicate_ids.duplicated(keep='first')]\n"
   ]
  },
  {
   "cell_type": "code",
   "execution_count": 24,
   "id": "554198e5",
   "metadata": {},
   "outputs": [
    {
     "name": "stdout",
     "output_type": "stream",
     "text": [
      "Общее количество чисел: 13\n",
      "Общая сумма чисел: 317\n",
      "Среднее значение: 24.384615384615383\n",
      "Все числа в одном кортеже: (11, 3, 5, 32, 1, 2, 87, 44, 81, 7, 24, 9, 11)\n"
     ]
    }
   ],
   "source": [
    "#задание 2\n",
    "m = [{11, 3, 5}, {2, 1, 87, 32}, {44, 44}, {24, 11, 9, 7, 81}]\n",
    "\n",
    "# Общее количество чисел\n",
    "total_numbers = sum(len(subset) for subset in m)\n",
    "\n",
    "# Общая сумма чисел\n",
    "total_sum = sum(sum(subset) for subset in m)\n",
    "\n",
    "# Среднее значение\n",
    "average_value = total_sum / total_numbers if total_numbers > 0 else 0\n",
    "\n",
    "# Сбор всех множеств в один кортеж\n",
    "all_numbers_tuple = tuple(num for subset in m for num in subset)\n",
    "\n",
    "print(f\"Общее количество чисел: {total_numbers}\")\n",
    "print(f\"Общая сумма чисел: {total_sum}\")\n",
    "print(f\"Среднее значение: {average_value}\")\n",
    "print(f\"Все числа в одном кортеже: {all_numbers_tuple}\")\n",
    "\n",
    "# в одну строку\n",
    "total_numbers, total_sum, average_value, all_numbers_tuple = sum(len(s) for s in m), sum(sum(s) for s in m), sum(sum(s) for s in m) / sum(len(s) for s in m) if sum(len(s) for s in m) > 0 else 0, tuple(n for s in m for n in s)\n"
   ]
  },
  {
   "cell_type": "code",
   "execution_count": 11,
   "id": "bedb0a3b",
   "metadata": {},
   "outputs": [
    {
     "name": "stdout",
     "output_type": "stream",
     "text": [
      "[{'k1': 1, 'k2': 2, 'k3': 3}, {'k1': 4, 'k2': 5, 'k3': 6}]\n"
     ]
    }
   ],
   "source": [
    "#задание 3\n",
    "a = [[1, 2, 3], [4, 5, 6]]\n",
    "b = [dict(zip([f\"k{temp}\" for temp in range(1,len(sublist)+1)], sublist)) for sublist in a]\n",
    "print(b)"
   ]
  },
  {
   "cell_type": "code",
   "execution_count": 2,
   "id": "9dd42fba",
   "metadata": {},
   "outputs": [],
   "source": [
    "#задание 4\n",
    "import os\n",
    "import time\n",
    "from datetime import datetime\n",
    "\n",
    "def delete_old_files(folder_path, N):\n",
    "\n",
    "    cur_time = time.time()\n",
    "    \n",
    "    # Время, после которого файлы будут считаться старыми\n",
    "    cutoff_time = cur_time - (N * 86400)\n",
    "    \n",
    "    for filename in os.listdir(folder_path):\n",
    "        file_path = os.path.join(folder_path, filename)\n",
    "        \n",
    "        # Проверка на файл\n",
    "        if os.path.isfile(file_path):\n",
    "            # Получаем время последнего изменения файла\n",
    "            file_mod_time = os.path.getmtime(file_path)\n",
    "            \n",
    "            # Если файл старше cutoff_time, удаляем его\n",
    "            if file_mod_time < cutoff_time:\n",
    "                print(f\"Удаление файла: {file_path}\")\n",
    "                os.remove(file_path)\n",
    "\n",
    "folder_path = \".ipynb_checkpoints\" #путь к папке\n",
    "N = 30  # Количество дней\n",
    "\n",
    "delete_old_files(folder_path, N)"
   ]
  },
  {
   "cell_type": "code",
   "execution_count": 38,
   "id": "10c955b0",
   "metadata": {},
   "outputs": [
    {
     "name": "stdout",
     "output_type": "stream",
     "text": [
      "Введите слово: бобры\n",
      "бобры []\n",
      "обры []\n",
      "бры []\n",
      "ры []\n",
      "ы ['рыба', 'рывок']\n",
      "Ответ:\n",
      "бобрыба\n",
      "бобрывок\n"
     ]
    }
   ],
   "source": [
    "#задание 5\n",
    "\n",
    "def read_words_from_file(filename):\n",
    "    \"\"\"Чтение слов из файла\"\"\"\n",
    "    with open(filename, 'r', encoding='utf-8') as file:\n",
    "        words = [line.strip() for line in file.readlines()]\n",
    "    return words\n",
    "\n",
    "def create_new_words(user_word, words):\n",
    "    \"\"\"Создание списка слов, если конец введенного слова совпадает с началом другого слова\"\"\"\n",
    "    combined_words = []\n",
    "    used_words = []\n",
    "    \n",
    "    # мы проходим по введенному слову с каждом шагом обрезая первый символ\n",
    "    for i in range(len(user_word)):\n",
    "        curr_str = user_word[i:]\n",
    "        \n",
    "        for word in words:\n",
    "            if len(curr_str) <= len(word):\n",
    "                if word.startswith(curr_str) and word not in used_words:\n",
    "                    combined_words.append(user_word[:i] + word)\n",
    "                    used_words.append(word)\n",
    "    return combined_words\n",
    "\n",
    "def main():\n",
    "    filename = 'words.txt'\n",
    "    words = read_words_from_file(filename)\n",
    "    \n",
    "    user_word = input(\"Введите слово: \").strip()\n",
    "    \n",
    "    # Генерация и вывод новых слов\n",
    "    combined_words = create_new_words(user_word, words)\n",
    "    if combined_words:\n",
    "        print(\"Ответ:\")\n",
    "        for word in combined_words:\n",
    "            print(word)\n",
    "    else:\n",
    "        print(\"Нет слов, начинающихся с последней буквы введенного слова\")\n",
    "\n",
    "main()"
   ]
  },
  {
   "cell_type": "code",
   "execution_count": null,
   "id": "181e21e8",
   "metadata": {},
   "outputs": [],
   "source": []
  },
  {
   "cell_type": "code",
   "execution_count": null,
   "id": "828725c7",
   "metadata": {},
   "outputs": [],
   "source": []
  },
  {
   "cell_type": "code",
   "execution_count": null,
   "id": "6342f661",
   "metadata": {},
   "outputs": [],
   "source": []
  }
 ],
 "metadata": {
  "kernelspec": {
   "display_name": "Python 3 (ipykernel)",
   "language": "python",
   "name": "python3"
  },
  "language_info": {
   "codemirror_mode": {
    "name": "ipython",
    "version": 3
   },
   "file_extension": ".py",
   "mimetype": "text/x-python",
   "name": "python",
   "nbconvert_exporter": "python",
   "pygments_lexer": "ipython3",
   "version": "3.9.13"
  }
 },
 "nbformat": 4,
 "nbformat_minor": 5
}
